{
  "nbformat": 4,
  "nbformat_minor": 0,
  "metadata": {
    "colab": {
      "name": "🌈 Python LSTM for tseStock.ipynb",
      "provenance": [],
      "collapsed_sections": [
        "xEcYcLAIDDYp"
      ]
    },
    "kernelspec": {
      "name": "python3",
      "display_name": "Python 3"
    },
    "language_info": {
      "name": "python"
    },
    "accelerator": "GPU"
  },
  "cells": [
    {
      "cell_type": "markdown",
      "metadata": {
        "id": "xEcYcLAIDDYp"
      },
      "source": [
        "## Source"
      ]
    },
    {
      "cell_type": "markdown",
      "metadata": {
        "id": "EysW6EaCB7cT"
      },
      "source": [
        "code from: https://www.youtube.com/watch?v=QIUxPv5PJOY"
      ]
    },
    {
      "cell_type": "code",
      "metadata": {
        "id": "L1orLy85XX9s"
      },
      "source": [
        "import math\n",
        "import pandas_datareader as web\n",
        "import numpy as np\n",
        "import pandas as pd\n",
        "from sklearn.preprocessing import MinMaxScaler\n",
        "from keras.models import Sequential\n",
        "from keras.layers import Dense, LSTM\n",
        "import matplotlib.pyplot as plt\n",
        "plt.style.use('fivethirtyeight')  # to colorize the stylesheet"
      ],
      "execution_count": null,
      "outputs": []
    },
    {
      "cell_type": "code",
      "metadata": {
        "id": "5kSZ4ZupbYyM"
      },
      "source": [
        "df = web.DataReader('AAPL', data_source='yahoo', start='2012-01-01', end='2019-12-17')"
      ],
      "execution_count": null,
      "outputs": []
    },
    {
      "cell_type": "code",
      "metadata": {
        "colab": {
          "base_uri": "https://localhost:8080/",
          "height": 665
        },
        "id": "0UZFJBtYcCgf",
        "outputId": "fa6dbdeb-6d04-4cb4-f1eb-4012bfb66abf"
      },
      "source": [
        "df"
      ],
      "execution_count": null,
      "outputs": [
        {
          "output_type": "execute_result",
          "data": {
            "text/html": [
              "<div>\n",
              "<style scoped>\n",
              "    .dataframe tbody tr th:only-of-type {\n",
              "        vertical-align: middle;\n",
              "    }\n",
              "\n",
              "    .dataframe tbody tr th {\n",
              "        vertical-align: top;\n",
              "    }\n",
              "\n",
              "    .dataframe thead th {\n",
              "        text-align: right;\n",
              "    }\n",
              "</style>\n",
              "<table border=\"1\" class=\"dataframe\">\n",
              "  <thead>\n",
              "    <tr style=\"text-align: right;\">\n",
              "      <th></th>\n",
              "      <th>High</th>\n",
              "      <th>Low</th>\n",
              "      <th>Open</th>\n",
              "      <th>Close</th>\n",
              "      <th>Volume</th>\n",
              "      <th>Adj Close</th>\n",
              "    </tr>\n",
              "    <tr>\n",
              "      <th>Date</th>\n",
              "      <th></th>\n",
              "      <th></th>\n",
              "      <th></th>\n",
              "      <th></th>\n",
              "      <th></th>\n",
              "      <th></th>\n",
              "    </tr>\n",
              "  </thead>\n",
              "  <tbody>\n",
              "    <tr>\n",
              "      <th>2012-01-03</th>\n",
              "      <td>14.732143</td>\n",
              "      <td>14.607143</td>\n",
              "      <td>14.621429</td>\n",
              "      <td>14.686786</td>\n",
              "      <td>302220800.0</td>\n",
              "      <td>12.629209</td>\n",
              "    </tr>\n",
              "    <tr>\n",
              "      <th>2012-01-04</th>\n",
              "      <td>14.810000</td>\n",
              "      <td>14.617143</td>\n",
              "      <td>14.642857</td>\n",
              "      <td>14.765714</td>\n",
              "      <td>260022000.0</td>\n",
              "      <td>12.697079</td>\n",
              "    </tr>\n",
              "    <tr>\n",
              "      <th>2012-01-05</th>\n",
              "      <td>14.948214</td>\n",
              "      <td>14.738214</td>\n",
              "      <td>14.819643</td>\n",
              "      <td>14.929643</td>\n",
              "      <td>271269600.0</td>\n",
              "      <td>12.838044</td>\n",
              "    </tr>\n",
              "    <tr>\n",
              "      <th>2012-01-06</th>\n",
              "      <td>15.098214</td>\n",
              "      <td>14.972143</td>\n",
              "      <td>14.991786</td>\n",
              "      <td>15.085714</td>\n",
              "      <td>318292800.0</td>\n",
              "      <td>12.972249</td>\n",
              "    </tr>\n",
              "    <tr>\n",
              "      <th>2012-01-09</th>\n",
              "      <td>15.276786</td>\n",
              "      <td>15.048214</td>\n",
              "      <td>15.196429</td>\n",
              "      <td>15.061786</td>\n",
              "      <td>394024400.0</td>\n",
              "      <td>12.951672</td>\n",
              "    </tr>\n",
              "    <tr>\n",
              "      <th>...</th>\n",
              "      <td>...</td>\n",
              "      <td>...</td>\n",
              "      <td>...</td>\n",
              "      <td>...</td>\n",
              "      <td>...</td>\n",
              "      <td>...</td>\n",
              "    </tr>\n",
              "    <tr>\n",
              "      <th>2019-12-11</th>\n",
              "      <td>67.775002</td>\n",
              "      <td>67.125000</td>\n",
              "      <td>67.202499</td>\n",
              "      <td>67.692497</td>\n",
              "      <td>78756800.0</td>\n",
              "      <td>66.899139</td>\n",
              "    </tr>\n",
              "    <tr>\n",
              "      <th>2019-12-12</th>\n",
              "      <td>68.139999</td>\n",
              "      <td>66.830002</td>\n",
              "      <td>66.945000</td>\n",
              "      <td>67.864998</td>\n",
              "      <td>137310400.0</td>\n",
              "      <td>67.069626</td>\n",
              "    </tr>\n",
              "    <tr>\n",
              "      <th>2019-12-13</th>\n",
              "      <td>68.824997</td>\n",
              "      <td>67.732498</td>\n",
              "      <td>67.864998</td>\n",
              "      <td>68.787498</td>\n",
              "      <td>133587600.0</td>\n",
              "      <td>67.981300</td>\n",
              "    </tr>\n",
              "    <tr>\n",
              "      <th>2019-12-16</th>\n",
              "      <td>70.197502</td>\n",
              "      <td>69.245003</td>\n",
              "      <td>69.250000</td>\n",
              "      <td>69.964996</td>\n",
              "      <td>128186000.0</td>\n",
              "      <td>69.144997</td>\n",
              "    </tr>\n",
              "    <tr>\n",
              "      <th>2019-12-17</th>\n",
              "      <td>70.442497</td>\n",
              "      <td>69.699997</td>\n",
              "      <td>69.892502</td>\n",
              "      <td>70.102501</td>\n",
              "      <td>114158400.0</td>\n",
              "      <td>69.280899</td>\n",
              "    </tr>\n",
              "  </tbody>\n",
              "</table>\n",
              "<p>2003 rows × 6 columns</p>\n",
              "</div>"
            ],
            "text/plain": [
              "                 High        Low       Open      Close       Volume  Adj Close\n",
              "Date                                                                          \n",
              "2012-01-03  14.732143  14.607143  14.621429  14.686786  302220800.0  12.629209\n",
              "2012-01-04  14.810000  14.617143  14.642857  14.765714  260022000.0  12.697079\n",
              "2012-01-05  14.948214  14.738214  14.819643  14.929643  271269600.0  12.838044\n",
              "2012-01-06  15.098214  14.972143  14.991786  15.085714  318292800.0  12.972249\n",
              "2012-01-09  15.276786  15.048214  15.196429  15.061786  394024400.0  12.951672\n",
              "...               ...        ...        ...        ...          ...        ...\n",
              "2019-12-11  67.775002  67.125000  67.202499  67.692497   78756800.0  66.899139\n",
              "2019-12-12  68.139999  66.830002  66.945000  67.864998  137310400.0  67.069626\n",
              "2019-12-13  68.824997  67.732498  67.864998  68.787498  133587600.0  67.981300\n",
              "2019-12-16  70.197502  69.245003  69.250000  69.964996  128186000.0  69.144997\n",
              "2019-12-17  70.442497  69.699997  69.892502  70.102501  114158400.0  69.280899\n",
              "\n",
              "[2003 rows x 6 columns]"
            ]
          },
          "metadata": {
            "tags": []
          },
          "execution_count": 7
        }
      ]
    },
    {
      "cell_type": "code",
      "metadata": {
        "colab": {
          "base_uri": "https://localhost:8080/",
          "height": 155
        },
        "id": "SRyqincocDvg",
        "outputId": "417f21c8-ea13-45c5-f41a-4f61c8a5d5f2"
      },
      "source": [
        "# visualize closing price history\n",
        "plt.figure(figsize=(16, 8))\n",
        "plt.title(\"Closing Price History\")\n",
        "plt.plot(df['Close'])\n",
        "plt.xlabel('Date', fontsize=18)\n",
        "plt.ylabel('Close Price USD ($)', fontsize=18)\n",
        "plt.show()"
      ],
      "execution_count": null,
      "outputs": [
        {
          "output_type": "display_data",
          "data": {
            "image/png": "[encoded data removed]",
            "text/plain": [
              "<Figure size 1152x576 with 1 Axes>"
            ]
          },
          "metadata": {
            "tags": []
          }
        }
      ]
    },
    {
      "cell_type": "code",
      "metadata": {
        "id": "HNnSJMuyc4Bg"
      },
      "source": [
        "# Create a new dataframe with only close column\n",
        "data = df.filter(['Close'])\n",
        "# Convert the DF to a numpy array\n",
        "dataset = data.values\n",
        "# Get the numebr of rows to train the model on\n",
        "# Get the 80% (0.8) of data & round it using math.ceil\n",
        "training_data_len = math.ceil(len(dataset) * .8)"
      ],
      "execution_count": null,
      "outputs": []
    },
    {
      "cell_type": "code",
      "metadata": {
        "colab": {
          "base_uri": "https://localhost:8080/"
        },
        "id": "0YUKMxureYvN",
        "outputId": "6efa6bd3-4227-4877-f684-d68340031761"
      },
      "source": [
        "training_data_len"
      ],
      "execution_count": null,
      "outputs": [
        {
          "output_type": "execute_result",
          "data": {
            "text/plain": [
              "1603"
            ]
          },
          "metadata": {
            "tags": []
          },
          "execution_count": 11
        }
      ]
    },
    {
      "cell_type": "code",
      "metadata": {
        "id": "_DoS3lhReaGY"
      },
      "source": [
        "# Scale (Normalize) the data before preprocessing\n",
        "scaler = MinMaxScaler(feature_range=(0, 1))\n",
        "scaled_data = scaler.fit_transform(dataset)"
      ],
      "execution_count": null,
      "outputs": []
    },
    {
      "cell_type": "code",
      "metadata": {
        "colab": {
          "base_uri": "https://localhost:8080/"
        },
        "id": "8N77uLjufGbU",
        "outputId": "35dff027-880e-4e69-c706-27e1990139b4"
      },
      "source": [
        "scaled_data"
      ],
      "execution_count": null,
      "outputs": [
        {
          "output_type": "execute_result",
          "data": {
            "text/plain": [
              "array([[0.01316509],\n",
              "       [0.01457063],\n",
              "       [0.01748985],\n",
              "       ...,\n",
              "       [0.97658263],\n",
              "       [0.99755134],\n",
              "       [1.        ]])"
            ]
          },
          "metadata": {
            "tags": []
          },
          "execution_count": 13
        }
      ]
    },
    {
      "cell_type": "code",
      "metadata": {
        "colab": {
          "base_uri": "https://localhost:8080/"
        },
        "id": "IOc0d1TYfIRd",
        "outputId": "64a0746f-0d76-4ca5-8d7f-9d41247e2e6f"
      },
      "source": [
        "# Create the training dataset\n",
        " \n",
        "# Create the scaled training dataset\n",
        "train_data = scaled_data[0:training_data_len, :]\n",
        " \n",
        "# Split data to x_train & y_train\n",
        "x_train = []\n",
        "y_train = []\n",
        " \n",
        "for i in range(60, len(train_data)):\n",
        "  x_train.append(train_data[i-60:i, 0])\n",
        "  y_train.append(train_data[i, 0])\n",
        "  if i <= 61:\n",
        "    print(\"x_train: \", \"\\n\", x_train, \"\\n\", \"y_train: \", \"\\n\", y_train)"
      ],
      "execution_count": null,
      "outputs": [
        {
          "output_type": "stream",
          "text": [
            "x_train:  \n",
            " [array([0.01316509, 0.01457063, 0.01748985, 0.02026915, 0.01984303,\n",
            "       0.02080338, 0.02036454, 0.01962679, 0.01862191, 0.02173194,\n",
            "       0.02453668, 0.02367172, 0.01893355, 0.02345548, 0.01900352,\n",
            "       0.03569838, 0.03440732, 0.0360927 , 0.03973694, 0.04194384,\n",
            "       0.0417594 , 0.0410789 , 0.04397903, 0.04670744, 0.04979839,\n",
            "       0.05479095, 0.0652785 , 0.06543749, 0.07127594, 0.07563885,\n",
            "       0.06814049, 0.07102789, 0.07097066, 0.07906688, 0.07791571,\n",
            "       0.08004628, 0.08387497, 0.08600558, 0.09214292, 0.09661394,\n",
            "       0.09790501, 0.09835659, 0.09071194, 0.08886753, 0.08914103,\n",
            "       0.09632778, 0.09835024, 0.10269409, 0.11293358, 0.12659476,\n",
            "       0.12403805, 0.1240444 , 0.13392141, 0.13701237, 0.13481179,\n",
            "       0.13280207, 0.13070964, 0.13766105, 0.14243103, 0.14442805])] \n",
            " y_train:  \n",
            " [0.13949272033425864]\n",
            "x_train:  \n",
            " [array([0.01316509, 0.01457063, 0.01748985, 0.02026915, 0.01984303,\n",
            "       0.02080338, 0.02036454, 0.01962679, 0.01862191, 0.02173194,\n",
            "       0.02453668, 0.02367172, 0.01893355, 0.02345548, 0.01900352,\n",
            "       0.03569838, 0.03440732, 0.0360927 , 0.03973694, 0.04194384,\n",
            "       0.0417594 , 0.0410789 , 0.04397903, 0.04670744, 0.04979839,\n",
            "       0.05479095, 0.0652785 , 0.06543749, 0.07127594, 0.07563885,\n",
            "       0.06814049, 0.07102789, 0.07097066, 0.07906688, 0.07791571,\n",
            "       0.08004628, 0.08387497, 0.08600558, 0.09214292, 0.09661394,\n",
            "       0.09790501, 0.09835659, 0.09071194, 0.08886753, 0.08914103,\n",
            "       0.09632778, 0.09835024, 0.10269409, 0.11293358, 0.12659476,\n",
            "       0.12403805, 0.1240444 , 0.13392141, 0.13701237, 0.13481179,\n",
            "       0.13280207, 0.13070964, 0.13766105, 0.14243103, 0.14442805]), array([0.01457063, 0.01748985, 0.02026915, 0.01984303, 0.02080338,\n",
            "       0.02036454, 0.01962679, 0.01862191, 0.02173194, 0.02453668,\n",
            "       0.02367172, 0.01893355, 0.02345548, 0.01900352, 0.03569838,\n",
            "       0.03440732, 0.0360927 , 0.03973694, 0.04194384, 0.0417594 ,\n",
            "       0.0410789 , 0.04397903, 0.04670744, 0.04979839, 0.05479095,\n",
            "       0.0652785 , 0.06543749, 0.07127594, 0.07563885, 0.06814049,\n",
            "       0.07102789, 0.07097066, 0.07906688, 0.07791571, 0.08004628,\n",
            "       0.08387497, 0.08600558, 0.09214292, 0.09661394, 0.09790501,\n",
            "       0.09835659, 0.09071194, 0.08886753, 0.08914103, 0.09632778,\n",
            "       0.09835024, 0.10269409, 0.11293358, 0.12659476, 0.12403805,\n",
            "       0.1240444 , 0.13392141, 0.13701237, 0.13481179, 0.13280207,\n",
            "       0.13070964, 0.13766105, 0.14243103, 0.14442805, 0.13949272])] \n",
            " y_train:  \n",
            " [0.13949272033425864, 0.13293562570222134]\n"
          ],
          "name": "stdout"
        }
      ]
    },
    {
      "cell_type": "code",
      "metadata": {
        "id": "YExQhBqjf7z1"
      },
      "source": [
        "# Convert x_train & y_train to numpy arrays to use it on LSTM\n",
        "x_train, y_train = np.array(x_train), np.array(y_train)"
      ],
      "execution_count": null,
      "outputs": []
    },
    {
      "cell_type": "code",
      "metadata": {
        "colab": {
          "base_uri": "https://localhost:8080/"
        },
        "id": "XxovO5YFhO9p",
        "outputId": "bd05d57b-6a5a-4f26-8ff7-0bb6ef7abf52"
      },
      "source": [
        "x_train.shape"
      ],
      "execution_count": null,
      "outputs": [
        {
          "output_type": "stream",
          "text": [
            "[[0.01316509 0.01457063 0.01748985 ... 0.13766105 0.14243103 0.14442805]\n",
            " [0.01457063 0.01748985 0.02026915 ... 0.14243103 0.14442805 0.13949272]\n",
            " [0.01748985 0.02026915 0.01984303 ... 0.14442805 0.13949272 0.13293563]\n",
            " ...\n",
            " [0.52177011 0.51927696 0.51669488 ... 0.5857448  0.59767603 0.5912207 ]\n",
            " [0.51927696 0.51669488 0.51322235 ... 0.59767603 0.5912207  0.58926183]\n",
            " [0.51669488 0.51322235 0.51958863 ... 0.5912207  0.58926183 0.58164901]]\n"
          ],
          "name": "stdout"
        }
      ]
    },
    {
      "cell_type": "code",
      "metadata": {
        "colab": {
          "base_uri": "https://localhost:8080/"
        },
        "id": "43QwqKtrhAwt",
        "outputId": "64e2a98a-1f2f-44a1-a378-47a18dc1e054"
      },
      "source": [
        "# Reshape the data (input of LSTM should be 3-dim)\n",
        "# (number of rows we have \"1543\", number of time steps \"60\", number of features \"closing price\": 1)\n",
        "x_train = np.reshape(x_train, (x_train.shape[0], x_train.shape[1], 1))\n",
        "\n",
        "x_train.shape"
      ],
      "execution_count": null,
      "outputs": [
        {
          "output_type": "execute_result",
          "data": {
            "text/plain": [
              "(1543, 60, 1)"
            ]
          },
          "metadata": {
            "tags": []
          },
          "execution_count": 12
        }
      ]
    },
    {
      "cell_type": "code",
      "metadata": {
        "id": "-oK4I10FhlX_"
      },
      "source": [
        "# Build the LSTM Model\n",
        "model = Sequential()\n",
        "# 50 neurons, True because we're using another LSTM layer,\n",
        "# for the first layer we use input shape(number of time steps, number of features)\n",
        "model.add(LSTM(50, return_sequences=True, input_shape=(x_train.shape[1], 1)))\n",
        "model.add(LSTM(50, return_sequences=False))  # False because we don't have any LSTM further\n",
        "model.add(Dense(25))  # 25 neurons\n",
        "model.add(Dense(1))"
      ],
      "execution_count": null,
      "outputs": []
    },
    {
      "cell_type": "code",
      "metadata": {
        "id": "TGQN-y0LjqEv"
      },
      "source": [
        "# Compile the model\n",
        "# optimizer used to improve loss function & loss function measures how well model did on training\n",
        "model.compile(optimizer='Adam', loss='mean_squared_error')"
      ],
      "execution_count": null,
      "outputs": []
    },
    {
      "cell_type": "code",
      "metadata": {
        "id": "Lvbz5KYrkMLE",
        "colab": {
          "base_uri": "https://localhost:8080/"
        },
        "outputId": "8535a7eb-db30-4209-8e19-c387a7a99bde"
      },
      "source": [
        "# Train the Model\n",
        "# batch_size : total number of examples present in a single batch\n",
        "# epochs : number of iterations when an entire dataset is passed forward and backward through a neural network\n",
        "model.fit(x_train, y_train, batch_size=1, epochs=1)"
      ],
      "execution_count": null,
      "outputs": [
        {
          "output_type": "stream",
          "text": [
            "1543/1543 [==============================] - 53s 23ms/step - loss: 0.0025\n"
          ],
          "name": "stdout"
        },
        {
          "output_type": "execute_result",
          "data": {
            "text/plain": [
              "<keras.callbacks.History at 0x7fd172f56d50>"
            ]
          },
          "metadata": {
            "tags": []
          },
          "execution_count": 16
        }
      ]
    },
    {
      "cell_type": "code",
      "metadata": {
        "id": "BZUUdM703zEN"
      },
      "source": [
        "# Create a testing dataset\n",
        "# Create a new array containing the scaled values from index 1543 to 2003\n",
        "test_data = scaled_data[training_data_len - 60: , :]\n",
        "# Create the dataset x_test & y_test\n",
        "x_test = []\n",
        "# y_test : all of the values we want our model to predict\n",
        "# contains actual values (60 first values)\n",
        "y_test = dataset[training_data_len: , :]\n",
        "\n",
        "# Create x_test contains past 60 values\n",
        "for i in range(60, len(test_data)):\n",
        "  x_test.append(test_data[i-60:i, 0])"
      ],
      "execution_count": null,
      "outputs": []
    },
    {
      "cell_type": "code",
      "metadata": {
        "id": "V8S8-_Xp42mO"
      },
      "source": [
        "# Convert the data to a numpy array to use it in LSTM model\n",
        "x_test = np.array(x_test)"
      ],
      "execution_count": null,
      "outputs": []
    },
    {
      "cell_type": "code",
      "metadata": {
        "id": "me4Rhj_e5mKx"
      },
      "source": [
        "# Reshape the data (2dim to 3dim)\n",
        "# (reshape x_test, (number of samples 'rows'), (number of timesteps 'columns'), (number of features))\n",
        "x_test = np.reshape(x_test, (x_test.shape[0], x_test.shape[1], 1))"
      ],
      "execution_count": null,
      "outputs": []
    },
    {
      "cell_type": "code",
      "metadata": {
        "id": "-Sl9nRZs67AF"
      },
      "source": [
        "# Get the models predicted price values (x_test)\n",
        "predictions = model.predict(x_test)\n",
        "# Inverse transform the data (unscaling the values) to contain...\n",
        "# exact same values that y_test contains\n",
        "predictions = scaler.inverse_transform(predictions)"
      ],
      "execution_count": null,
      "outputs": []
    },
    {
      "cell_type": "code",
      "metadata": {
        "colab": {
          "base_uri": "https://localhost:8080/"
        },
        "id": "uxIVfITx8C-9",
        "outputId": "49d6382e-a6e1-4abf-9a71-0a8490a185ab"
      },
      "source": [
        "# Evaluate the model by getting the Root Mean Squared Error (RMSE)\n",
        "# the lower the value, the better the model fit\n",
        "rmse = np.sqrt(np.mean(predictions - y_test)**2)\n",
        "rmse"
      ],
      "execution_count": null,
      "outputs": [
        {
          "output_type": "execute_result",
          "data": {
            "text/plain": [
              "1.8651253986358642"
            ]
          },
          "metadata": {
            "tags": []
          },
          "execution_count": 23
        }
      ]
    },
    {
      "cell_type": "code",
      "metadata": {
        "colab": {
          "base_uri": "https://localhost:8080/",
          "height": 623
        },
        "id": "HWl2wtly8aLD",
        "outputId": "bb07a150-b9ea-4192-ef22-ee1c97e36959"
      },
      "source": [
        "# Plot the data\n",
        "train = data[: training_data_len]\n",
        "valid = data[training_data_len:]\n",
        "valid['Predictions'] = predictions\n",
        "# Visualize the data\n",
        "plt.figure(figsize=(16, 8))\n",
        "plt.title('Model')\n",
        "plt.xlabel('Date', fontsize=18)\n",
        "plt.ylabel('Close Price USD ($)', fontsize=18)\n",
        "plt.plot(train['Close'])\n",
        "plt.plot(valid[['Close', 'Predictions']])\n",
        "plt.legend(['Train', 'Val', 'Predictions'], loc='lower right')\n",
        "plt.show()"
      ],
      "execution_count": null,
      "outputs": [
        {
          "output_type": "stream",
          "text": [
            "/usr/local/lib/python3.7/dist-packages/ipykernel_launcher.py:4: SettingWithCopyWarning: \n",
            "A value is trying to be set on a copy of a slice from a DataFrame.\n",
            "Try using .loc[row_indexer,col_indexer] = value instead\n",
            "\n",
            "See the caveats in the documentation: https://pandas.pydata.org/pandas-docs/stable/user_guide/indexing.html#returning-a-view-versus-a-copy\n",
            "  after removing the cwd from sys.path.\n"
          ],
          "name": "stderr"
        },
        {
          "output_type": "display_data",
          "data": {
            "image/png": "[encoded data removed]",
            "text/plain": [
              "<Figure size 1152x576 with 1 Axes>"
            ]
          },
          "metadata": {
            "tags": [],
            "needs_background": "light"
          }
        }
      ]
    },
    {
      "cell_type": "code",
      "metadata": {
        "colab": {
          "base_uri": "https://localhost:8080/",
          "height": 450
        },
        "id": "vHxJ9CYl9yIJ",
        "outputId": "b3807334-1c0c-4167-e707-b3e9e5f5e59d"
      },
      "source": [
        "# Show the valid & predicted prices\n",
        "valid"
      ],
      "execution_count": null,
      "outputs": [
        {
          "output_type": "execute_result",
          "data": {
            "text/html": [
              "<div>\n",
              "<style scoped>\n",
              "    .dataframe tbody tr th:only-of-type {\n",
              "        vertical-align: middle;\n",
              "    }\n",
              "\n",
              "    .dataframe tbody tr th {\n",
              "        vertical-align: top;\n",
              "    }\n",
              "\n",
              "    .dataframe thead th {\n",
              "        text-align: right;\n",
              "    }\n",
              "</style>\n",
              "<table border=\"1\" class=\"dataframe\">\n",
              "  <thead>\n",
              "    <tr style=\"text-align: right;\">\n",
              "      <th></th>\n",
              "      <th>Close</th>\n",
              "      <th>Predictions</th>\n",
              "    </tr>\n",
              "    <tr>\n",
              "      <th>Date</th>\n",
              "      <th></th>\n",
              "      <th></th>\n",
              "    </tr>\n",
              "  </thead>\n",
              "  <tbody>\n",
              "    <tr>\n",
              "      <th>2018-05-17</th>\n",
              "      <td>46.747501</td>\n",
              "      <td>48.594776</td>\n",
              "    </tr>\n",
              "    <tr>\n",
              "      <th>2018-05-18</th>\n",
              "      <td>46.577499</td>\n",
              "      <td>48.717716</td>\n",
              "    </tr>\n",
              "    <tr>\n",
              "      <th>2018-05-21</th>\n",
              "      <td>46.907501</td>\n",
              "      <td>48.762836</td>\n",
              "    </tr>\n",
              "    <tr>\n",
              "      <th>2018-05-22</th>\n",
              "      <td>46.790001</td>\n",
              "      <td>48.795300</td>\n",
              "    </tr>\n",
              "    <tr>\n",
              "      <th>2018-05-23</th>\n",
              "      <td>47.090000</td>\n",
              "      <td>48.804474</td>\n",
              "    </tr>\n",
              "    <tr>\n",
              "      <th>...</th>\n",
              "      <td>...</td>\n",
              "      <td>...</td>\n",
              "    </tr>\n",
              "    <tr>\n",
              "      <th>2019-12-11</th>\n",
              "      <td>67.692497</td>\n",
              "      <td>69.086586</td>\n",
              "    </tr>\n",
              "    <tr>\n",
              "      <th>2019-12-12</th>\n",
              "      <td>67.864998</td>\n",
              "      <td>69.297340</td>\n",
              "    </tr>\n",
              "    <tr>\n",
              "      <th>2019-12-13</th>\n",
              "      <td>68.787498</td>\n",
              "      <td>69.530769</td>\n",
              "    </tr>\n",
              "    <tr>\n",
              "      <th>2019-12-16</th>\n",
              "      <td>69.964996</td>\n",
              "      <td>69.848671</td>\n",
              "    </tr>\n",
              "    <tr>\n",
              "      <th>2019-12-17</th>\n",
              "      <td>70.102501</td>\n",
              "      <td>70.295959</td>\n",
              "    </tr>\n",
              "  </tbody>\n",
              "</table>\n",
              "<p>400 rows × 2 columns</p>\n",
              "</div>"
            ],
            "text/plain": [
              "                Close  Predictions\n",
              "Date                              \n",
              "2018-05-17  46.747501    48.594776\n",
              "2018-05-18  46.577499    48.717716\n",
              "2018-05-21  46.907501    48.762836\n",
              "2018-05-22  46.790001    48.795300\n",
              "2018-05-23  47.090000    48.804474\n",
              "...               ...          ...\n",
              "2019-12-11  67.692497    69.086586\n",
              "2019-12-12  67.864998    69.297340\n",
              "2019-12-13  68.787498    69.530769\n",
              "2019-12-16  69.964996    69.848671\n",
              "2019-12-17  70.102501    70.295959\n",
              "\n",
              "[400 rows x 2 columns]"
            ]
          },
          "metadata": {
            "tags": []
          },
          "execution_count": 25
        }
      ]
    },
    {
      "cell_type": "code",
      "metadata": {
        "id": "DZBw8M15-DmE"
      },
      "source": [
        "# Get the quote\n",
        "apple_quote = web.DataReader('AAPL', data_source='yahoo', start='2012-01-01', end='2019-12-17')"
      ],
      "execution_count": null,
      "outputs": []
    },
    {
      "cell_type": "code",
      "metadata": {
        "colab": {
          "base_uri": "https://localhost:8080/"
        },
        "id": "BzZmo7QC-nUv",
        "outputId": "21043fa5-abf6-4b68-ec6b-fe4152f4d82c"
      },
      "source": [
        "# Create a new dataframe\n",
        "new_df = apple_quote.filter(['Close'])\n",
        "# Get the last 60 day closing price of values & convert the df to an array\n",
        "last_60_days = new_df[-60:].values\n",
        "# Scale the data (0-1)\n",
        "# not using fit transform because we want to transform those same Min & Max values that we used when we first transformed the data\n",
        "last_60_days_scaled = scaler.transform(last_60_days)\n",
        "# Create an empty list\n",
        "X_test = []\n",
        "# Append the past 60 days to the X_test\n",
        "X_test.append(last_60_days_scaled)\n",
        "# Convert the X_test dataset to a numpy array to use in LSTM\n",
        "X_test = np.array(X_test)\n",
        "# Reshape from 2dim to 3dim\n",
        "X_test = np.reshape(X_test, (X_test.shape[0], X_test.shape[1], 1))\n",
        "# Get the predcited scaled price\n",
        "pred_price = model.predict(X_test)\n",
        "# Undo the scaling\n",
        "pred_price = scaler.inverse_transform(pred_price)\n",
        "print(pred_price)  # price of 18 December 2019"
      ],
      "execution_count": null,
      "outputs": [
        {
          "output_type": "stream",
          "text": [
            "[[70.77503]]\n"
          ],
          "name": "stdout"
        }
      ]
    },
    {
      "cell_type": "code",
      "metadata": {
        "id": "rd-BO_2kA5I0"
      },
      "source": [
        "# Get the quote\n",
        "apple_quote2 = web.DataReader('AAPL', data_source='yahoo', start='2019-12-18', end='2019-12-18')"
      ],
      "execution_count": null,
      "outputs": []
    },
    {
      "cell_type": "code",
      "metadata": {
        "colab": {
          "base_uri": "https://localhost:8080/"
        },
        "id": "dF7G3j-RBuRZ",
        "outputId": "f5f08b2b-9899-4207-e777-55ae09b609b4"
      },
      "source": [
        "print(apple_quote2['Close'])"
      ],
      "execution_count": null,
      "outputs": [
        {
          "output_type": "stream",
          "text": [
            "Date\n",
            "2019-12-18    69.934998\n",
            "Name: Close, dtype: float64\n"
          ],
          "name": "stdout"
        }
      ]
    },
    {
      "cell_type": "markdown",
      "metadata": {
        "id": "btPXD31agGrH"
      },
      "source": [
        "## Keep Going!"
      ]
    },
    {
      "cell_type": "code",
      "metadata": {
        "id": "hi5npbXQgKvc"
      },
      "source": [
        "import math\n",
        "import numpy as np\n",
        "import pandas as pd\n",
        "from sklearn.preprocessing import MinMaxScaler\n",
        "from keras.models import Sequential\n",
        "from keras.layers import Dense, LSTM\n",
        "import matplotlib.pyplot as plt\n",
        "# To colorize stylesheets & make them beautiful!\n",
        "plt.style.use('fivethirtyeight')"
      ],
      "execution_count": 1,
      "outputs": []
    },
    {
      "cell_type": "code",
      "metadata": {
        "colab": {
          "base_uri": "https://localhost:8080/"
        },
        "id": "MfniyJJBOweK",
        "outputId": "43dce4e1-833e-4ba9-ccd9-e3fba5db805a"
      },
      "source": [
        "# Mount Google Drive to Download the Dataset\n",
        "\n",
        "from google.colab import drive\n",
        "drive.mount('/content/drive')"
      ],
      "execution_count": 2,
      "outputs": [
        {
          "output_type": "stream",
          "text": [
            "Go to this URL in a browser: https://accounts.google.com/o/oauth2/auth?client_id=947318989803-6bn6qk8qdgf4n4g3pfee6491hc0brc4i.apps.googleusercontent.com&redirect_uri=urn%3aietf%3awg%3aoauth%3a2.0%3aoob&scope=email%20https%3a%2f%2fwww.googleapis.com%2fauth%2fdocs.test%20https%3a%2f%2fwww.googleapis.com%2fauth%2fdrive%20https%3a%2f%2fwww.googleapis.com%2fauth%2fdrive.photos.readonly%20https%3a%2f%2fwww.googleapis.com%2fauth%2fpeopleapi.readonly%20https%3a%2f%2fwww.googleapis.com%2fauth%2fdrive.activity.readonly%20https%3a%2f%2fwww.googleapis.com%2fauth%2fexperimentsandconfigs%20https%3a%2f%2fwww.googleapis.com%2fauth%2fphotos.native&response_type=code\n",
            "\n",
            "Enter your authorization code:\n",
            "4/1AY0e-g6jqSrRIPrpv6LxgEzWdom3oJldrJABt6LisY8hJE5O3-Ad7fuzgpI\n",
            "Mounted at /content/drive\n"
          ],
          "name": "stdout"
        }
      ]
    },
    {
      "cell_type": "code",
      "metadata": {
        "colab": {
          "base_uri": "https://localhost:8080/",
          "height": 419
        },
        "id": "uFwbewUkgYhh",
        "outputId": "7d22a0ba-2572-4553-cc29-d63df82b31f4"
      },
      "source": [
        "# Store the CSV file into the <df> variable\n",
        "df = pd.read_csv('/content/drive/MyDrive/tseStockAnalyze/vbmellat.csv')\n",
        "# Show the DataFrame\n",
        "df"
      ],
      "execution_count": 3,
      "outputs": [
        {
          "output_type": "execute_result",
          "data": {
            "text/html": [
              "<div>\n",
              "<style scoped>\n",
              "    .dataframe tbody tr th:only-of-type {\n",
              "        vertical-align: middle;\n",
              "    }\n",
              "\n",
              "    .dataframe tbody tr th {\n",
              "        vertical-align: top;\n",
              "    }\n",
              "\n",
              "    .dataframe thead th {\n",
              "        text-align: right;\n",
              "    }\n",
              "</style>\n",
              "<table border=\"1\" class=\"dataframe\">\n",
              "  <thead>\n",
              "    <tr style=\"text-align: right;\">\n",
              "      <th></th>\n",
              "      <th>Unnamed: 0</th>\n",
              "      <th>date</th>\n",
              "      <th>open</th>\n",
              "      <th>high</th>\n",
              "      <th>low</th>\n",
              "      <th>adjClose</th>\n",
              "      <th>value</th>\n",
              "      <th>volume</th>\n",
              "      <th>count</th>\n",
              "      <th>yesterday</th>\n",
              "      <th>close</th>\n",
              "    </tr>\n",
              "  </thead>\n",
              "  <tbody>\n",
              "    <tr>\n",
              "      <th>0</th>\n",
              "      <td>2535</td>\n",
              "      <td>2009-02-18</td>\n",
              "      <td>1050.0</td>\n",
              "      <td>1050.0</td>\n",
              "      <td>1050.0</td>\n",
              "      <td>1050.0</td>\n",
              "      <td>347393807250</td>\n",
              "      <td>330851245</td>\n",
              "      <td>800</td>\n",
              "      <td>1000.0</td>\n",
              "      <td>1050.0</td>\n",
              "    </tr>\n",
              "    <tr>\n",
              "      <th>1</th>\n",
              "      <td>2534</td>\n",
              "      <td>2009-02-21</td>\n",
              "      <td>1051.0</td>\n",
              "      <td>1076.0</td>\n",
              "      <td>1042.0</td>\n",
              "      <td>1050.0</td>\n",
              "      <td>352194689892</td>\n",
              "      <td>335334212</td>\n",
              "      <td>6457</td>\n",
              "      <td>1050.0</td>\n",
              "      <td>1057.0</td>\n",
              "    </tr>\n",
              "    <tr>\n",
              "      <th>2</th>\n",
              "      <td>2533</td>\n",
              "      <td>2009-02-22</td>\n",
              "      <td>1065.0</td>\n",
              "      <td>1074.0</td>\n",
              "      <td>1055.0</td>\n",
              "      <td>1065.0</td>\n",
              "      <td>8981292784</td>\n",
              "      <td>8435464</td>\n",
              "      <td>603</td>\n",
              "      <td>1050.0</td>\n",
              "      <td>1055.0</td>\n",
              "    </tr>\n",
              "    <tr>\n",
              "      <th>3</th>\n",
              "      <td>2532</td>\n",
              "      <td>2009-02-23</td>\n",
              "      <td>1066.0</td>\n",
              "      <td>1067.0</td>\n",
              "      <td>1059.0</td>\n",
              "      <td>1061.0</td>\n",
              "      <td>9090532333</td>\n",
              "      <td>8570222</td>\n",
              "      <td>937</td>\n",
              "      <td>1065.0</td>\n",
              "      <td>1060.0</td>\n",
              "    </tr>\n",
              "    <tr>\n",
              "      <th>4</th>\n",
              "      <td>2531</td>\n",
              "      <td>2009-02-25</td>\n",
              "      <td>1061.0</td>\n",
              "      <td>1064.0</td>\n",
              "      <td>1050.0</td>\n",
              "      <td>1058.0</td>\n",
              "      <td>7863032258</td>\n",
              "      <td>7434309</td>\n",
              "      <td>616</td>\n",
              "      <td>1061.0</td>\n",
              "      <td>1060.0</td>\n",
              "    </tr>\n",
              "    <tr>\n",
              "      <th>...</th>\n",
              "      <td>...</td>\n",
              "      <td>...</td>\n",
              "      <td>...</td>\n",
              "      <td>...</td>\n",
              "      <td>...</td>\n",
              "      <td>...</td>\n",
              "      <td>...</td>\n",
              "      <td>...</td>\n",
              "      <td>...</td>\n",
              "      <td>...</td>\n",
              "      <td>...</td>\n",
              "    </tr>\n",
              "    <tr>\n",
              "      <th>2531</th>\n",
              "      <td>4</td>\n",
              "      <td>2021-04-27</td>\n",
              "      <td>4210.0</td>\n",
              "      <td>4310.0</td>\n",
              "      <td>4180.0</td>\n",
              "      <td>4250.0</td>\n",
              "      <td>805642623200</td>\n",
              "      <td>189399476</td>\n",
              "      <td>6001</td>\n",
              "      <td>4150.0</td>\n",
              "      <td>4290.0</td>\n",
              "    </tr>\n",
              "    <tr>\n",
              "      <th>2532</th>\n",
              "      <td>3</td>\n",
              "      <td>2021-04-28</td>\n",
              "      <td>4360.0</td>\n",
              "      <td>4500.0</td>\n",
              "      <td>4330.0</td>\n",
              "      <td>4490.0</td>\n",
              "      <td>2422315869670</td>\n",
              "      <td>539813093</td>\n",
              "      <td>15192</td>\n",
              "      <td>4250.0</td>\n",
              "      <td>4500.0</td>\n",
              "    </tr>\n",
              "    <tr>\n",
              "      <th>2533</th>\n",
              "      <td>2</td>\n",
              "      <td>2021-05-01</td>\n",
              "      <td>4600.0</td>\n",
              "      <td>4640.0</td>\n",
              "      <td>4400.0</td>\n",
              "      <td>4500.0</td>\n",
              "      <td>1272892280650</td>\n",
              "      <td>282682294</td>\n",
              "      <td>10773</td>\n",
              "      <td>4490.0</td>\n",
              "      <td>4470.0</td>\n",
              "    </tr>\n",
              "    <tr>\n",
              "      <th>2534</th>\n",
              "      <td>1</td>\n",
              "      <td>2021-05-02</td>\n",
              "      <td>4600.0</td>\n",
              "      <td>4740.0</td>\n",
              "      <td>4470.0</td>\n",
              "      <td>4610.0</td>\n",
              "      <td>2264635342054</td>\n",
              "      <td>491265655</td>\n",
              "      <td>17752</td>\n",
              "      <td>4500.0</td>\n",
              "      <td>4535.0</td>\n",
              "    </tr>\n",
              "    <tr>\n",
              "      <th>2535</th>\n",
              "      <td>0</td>\n",
              "      <td>2021-05-03</td>\n",
              "      <td>4610.0</td>\n",
              "      <td>4701.0</td>\n",
              "      <td>4551.0</td>\n",
              "      <td>4644.0</td>\n",
              "      <td>1097161859179</td>\n",
              "      <td>236236690</td>\n",
              "      <td>12044</td>\n",
              "      <td>4610.0</td>\n",
              "      <td>4640.0</td>\n",
              "    </tr>\n",
              "  </tbody>\n",
              "</table>\n",
              "<p>2536 rows × 11 columns</p>\n",
              "</div>"
            ],
            "text/plain": [
              "      Unnamed: 0        date    open  ...  count  yesterday   close\n",
              "0           2535  2009-02-18  1050.0  ...    800     1000.0  1050.0\n",
              "1           2534  2009-02-21  1051.0  ...   6457     1050.0  1057.0\n",
              "2           2533  2009-02-22  1065.0  ...    603     1050.0  1055.0\n",
              "3           2532  2009-02-23  1066.0  ...    937     1065.0  1060.0\n",
              "4           2531  2009-02-25  1061.0  ...    616     1061.0  1060.0\n",
              "...          ...         ...     ...  ...    ...        ...     ...\n",
              "2531           4  2021-04-27  4210.0  ...   6001     4150.0  4290.0\n",
              "2532           3  2021-04-28  4360.0  ...  15192     4250.0  4500.0\n",
              "2533           2  2021-05-01  4600.0  ...  10773     4490.0  4470.0\n",
              "2534           1  2021-05-02  4600.0  ...  17752     4500.0  4535.0\n",
              "2535           0  2021-05-03  4610.0  ...  12044     4610.0  4640.0\n",
              "\n",
              "[2536 rows x 11 columns]"
            ]
          },
          "metadata": {
            "tags": []
          },
          "execution_count": 3
        }
      ]
    },
    {
      "cell_type": "code",
      "metadata": {
        "colab": {
          "base_uri": "https://localhost:8080/",
          "height": 419
        },
        "id": "0SFE8Lz5g9qv",
        "outputId": "182055fe-6d51-4b98-c25e-dcc1ffa4e626"
      },
      "source": [
        "# Drop <Unnamed: 0> Column\n",
        "df = df.drop(['Unnamed: 0'], axis=1)\n",
        "# Convert Date column to <datetime> object to prevent further errors\n",
        "df['date'] = pd.to_datetime(df['date'])\n",
        "# Set Date as Index\n",
        "df = df.set_index(pd.DatetimeIndex(df['date'].values))\n",
        "df"
      ],
      "execution_count": 4,
      "outputs": [
        {
          "output_type": "execute_result",
          "data": {
            "text/html": [
              "<div>\n",
              "<style scoped>\n",
              "    .dataframe tbody tr th:only-of-type {\n",
              "        vertical-align: middle;\n",
              "    }\n",
              "\n",
              "    .dataframe tbody tr th {\n",
              "        vertical-align: top;\n",
              "    }\n",
              "\n",
              "    .dataframe thead th {\n",
              "        text-align: right;\n",
              "    }\n",
              "</style>\n",
              "<table border=\"1\" class=\"dataframe\">\n",
              "  <thead>\n",
              "    <tr style=\"text-align: right;\">\n",
              "      <th></th>\n",
              "      <th>date</th>\n",
              "      <th>open</th>\n",
              "      <th>high</th>\n",
              "      <th>low</th>\n",
              "      <th>adjClose</th>\n",
              "      <th>value</th>\n",
              "      <th>volume</th>\n",
              "      <th>count</th>\n",
              "      <th>yesterday</th>\n",
              "      <th>close</th>\n",
              "    </tr>\n",
              "  </thead>\n",
              "  <tbody>\n",
              "    <tr>\n",
              "      <th>2009-02-18</th>\n",
              "      <td>2009-02-18</td>\n",
              "      <td>1050.0</td>\n",
              "      <td>1050.0</td>\n",
              "      <td>1050.0</td>\n",
              "      <td>1050.0</td>\n",
              "      <td>347393807250</td>\n",
              "      <td>330851245</td>\n",
              "      <td>800</td>\n",
              "      <td>1000.0</td>\n",
              "      <td>1050.0</td>\n",
              "    </tr>\n",
              "    <tr>\n",
              "      <th>2009-02-21</th>\n",
              "      <td>2009-02-21</td>\n",
              "      <td>1051.0</td>\n",
              "      <td>1076.0</td>\n",
              "      <td>1042.0</td>\n",
              "      <td>1050.0</td>\n",
              "      <td>352194689892</td>\n",
              "      <td>335334212</td>\n",
              "      <td>6457</td>\n",
              "      <td>1050.0</td>\n",
              "      <td>1057.0</td>\n",
              "    </tr>\n",
              "    <tr>\n",
              "      <th>2009-02-22</th>\n",
              "      <td>2009-02-22</td>\n",
              "      <td>1065.0</td>\n",
              "      <td>1074.0</td>\n",
              "      <td>1055.0</td>\n",
              "      <td>1065.0</td>\n",
              "      <td>8981292784</td>\n",
              "      <td>8435464</td>\n",
              "      <td>603</td>\n",
              "      <td>1050.0</td>\n",
              "      <td>1055.0</td>\n",
              "    </tr>\n",
              "    <tr>\n",
              "      <th>2009-02-23</th>\n",
              "      <td>2009-02-23</td>\n",
              "      <td>1066.0</td>\n",
              "      <td>1067.0</td>\n",
              "      <td>1059.0</td>\n",
              "      <td>1061.0</td>\n",
              "      <td>9090532333</td>\n",
              "      <td>8570222</td>\n",
              "      <td>937</td>\n",
              "      <td>1065.0</td>\n",
              "      <td>1060.0</td>\n",
              "    </tr>\n",
              "    <tr>\n",
              "      <th>2009-02-25</th>\n",
              "      <td>2009-02-25</td>\n",
              "      <td>1061.0</td>\n",
              "      <td>1064.0</td>\n",
              "      <td>1050.0</td>\n",
              "      <td>1058.0</td>\n",
              "      <td>7863032258</td>\n",
              "      <td>7434309</td>\n",
              "      <td>616</td>\n",
              "      <td>1061.0</td>\n",
              "      <td>1060.0</td>\n",
              "    </tr>\n",
              "    <tr>\n",
              "      <th>...</th>\n",
              "      <td>...</td>\n",
              "      <td>...</td>\n",
              "      <td>...</td>\n",
              "      <td>...</td>\n",
              "      <td>...</td>\n",
              "      <td>...</td>\n",
              "      <td>...</td>\n",
              "      <td>...</td>\n",
              "      <td>...</td>\n",
              "      <td>...</td>\n",
              "    </tr>\n",
              "    <tr>\n",
              "      <th>2021-04-27</th>\n",
              "      <td>2021-04-27</td>\n",
              "      <td>4210.0</td>\n",
              "      <td>4310.0</td>\n",
              "      <td>4180.0</td>\n",
              "      <td>4250.0</td>\n",
              "      <td>805642623200</td>\n",
              "      <td>189399476</td>\n",
              "      <td>6001</td>\n",
              "      <td>4150.0</td>\n",
              "      <td>4290.0</td>\n",
              "    </tr>\n",
              "    <tr>\n",
              "      <th>2021-04-28</th>\n",
              "      <td>2021-04-28</td>\n",
              "      <td>4360.0</td>\n",
              "      <td>4500.0</td>\n",
              "      <td>4330.0</td>\n",
              "      <td>4490.0</td>\n",
              "      <td>2422315869670</td>\n",
              "      <td>539813093</td>\n",
              "      <td>15192</td>\n",
              "      <td>4250.0</td>\n",
              "      <td>4500.0</td>\n",
              "    </tr>\n",
              "    <tr>\n",
              "      <th>2021-05-01</th>\n",
              "      <td>2021-05-01</td>\n",
              "      <td>4600.0</td>\n",
              "      <td>4640.0</td>\n",
              "      <td>4400.0</td>\n",
              "      <td>4500.0</td>\n",
              "      <td>1272892280650</td>\n",
              "      <td>282682294</td>\n",
              "      <td>10773</td>\n",
              "      <td>4490.0</td>\n",
              "      <td>4470.0</td>\n",
              "    </tr>\n",
              "    <tr>\n",
              "      <th>2021-05-02</th>\n",
              "      <td>2021-05-02</td>\n",
              "      <td>4600.0</td>\n",
              "      <td>4740.0</td>\n",
              "      <td>4470.0</td>\n",
              "      <td>4610.0</td>\n",
              "      <td>2264635342054</td>\n",
              "      <td>491265655</td>\n",
              "      <td>17752</td>\n",
              "      <td>4500.0</td>\n",
              "      <td>4535.0</td>\n",
              "    </tr>\n",
              "    <tr>\n",
              "      <th>2021-05-03</th>\n",
              "      <td>2021-05-03</td>\n",
              "      <td>4610.0</td>\n",
              "      <td>4701.0</td>\n",
              "      <td>4551.0</td>\n",
              "      <td>4644.0</td>\n",
              "      <td>1097161859179</td>\n",
              "      <td>236236690</td>\n",
              "      <td>12044</td>\n",
              "      <td>4610.0</td>\n",
              "      <td>4640.0</td>\n",
              "    </tr>\n",
              "  </tbody>\n",
              "</table>\n",
              "<p>2536 rows × 10 columns</p>\n",
              "</div>"
            ],
            "text/plain": [
              "                 date    open    high  ...  count  yesterday   close\n",
              "2009-02-18 2009-02-18  1050.0  1050.0  ...    800     1000.0  1050.0\n",
              "2009-02-21 2009-02-21  1051.0  1076.0  ...   6457     1050.0  1057.0\n",
              "2009-02-22 2009-02-22  1065.0  1074.0  ...    603     1050.0  1055.0\n",
              "2009-02-23 2009-02-23  1066.0  1067.0  ...    937     1065.0  1060.0\n",
              "2009-02-25 2009-02-25  1061.0  1064.0  ...    616     1061.0  1060.0\n",
              "...               ...     ...     ...  ...    ...        ...     ...\n",
              "2021-04-27 2021-04-27  4210.0  4310.0  ...   6001     4150.0  4290.0\n",
              "2021-04-28 2021-04-28  4360.0  4500.0  ...  15192     4250.0  4500.0\n",
              "2021-05-01 2021-05-01  4600.0  4640.0  ...  10773     4490.0  4470.0\n",
              "2021-05-02 2021-05-02  4600.0  4740.0  ...  17752     4500.0  4535.0\n",
              "2021-05-03 2021-05-03  4610.0  4701.0  ...  12044     4610.0  4640.0\n",
              "\n",
              "[2536 rows x 10 columns]"
            ]
          },
          "metadata": {
            "tags": []
          },
          "execution_count": 4
        }
      ]
    },
    {
      "cell_type": "code",
      "metadata": {
        "colab": {
          "base_uri": "https://localhost:8080/",
          "height": 458
        },
        "id": "q7yONGJ_hL3T",
        "outputId": "e5f9cd49-5e6c-4628-a53a-4288b5762f44"
      },
      "source": [
        "# Visualize closing price history\n",
        "# Set figure size (width, height)\n",
        "plt.figure(figsize=(16, 8))\n",
        "# Set plot Title\n",
        "plt.title(\"Closing Price History\")\n",
        "# Show <close> column data\n",
        "plt.plot(df['close'])\n",
        "# Set date label as x_axis\n",
        "plt.xlabel('date', fontsize=18)\n",
        "# Set y axis title\n",
        "plt.ylabel('Close Price USD ($)', fontsize=18)\n",
        "plt.show()"
      ],
      "execution_count": 5,
      "outputs": [
        {
          "output_type": "display_data",
          "data": {
            "image/png": "[encoded data removed]",
            "text/plain": [
              "<Figure size 1152x576 with 1 Axes>"
            ]
          },
          "metadata": {
            "tags": [],
            "needs_background": "light"
          }
        }
      ]
    },
    {
      "cell_type": "code",
      "metadata": {
        "id": "ZBg9znYIjMNh"
      },
      "source": [
        "# Create a new dataframe with only close column\n",
        "data = df.filter(['close'])\n",
        "# Convert the DF to a numpy array (list of lists[close price])\n",
        "dataset = data.values\n",
        "# Get the number of rows to train the model on\n",
        "# Get the 80% (0.8) of data & round it using math.ceil\n",
        "training_data_len = math.ceil(len(dataset) * .8)"
      ],
      "execution_count": 6,
      "outputs": []
    },
    {
      "cell_type": "code",
      "metadata": {
        "colab": {
          "base_uri": "https://localhost:8080/"
        },
        "id": "I6fglDA7jMOh",
        "outputId": "66ef49b3-7562-4657-b34e-3cae15c28254"
      },
      "source": [
        "training_data_len"
      ],
      "execution_count": 7,
      "outputs": [
        {
          "output_type": "execute_result",
          "data": {
            "text/plain": [
              "2029"
            ]
          },
          "metadata": {
            "tags": []
          },
          "execution_count": 7
        }
      ]
    },
    {
      "cell_type": "markdown",
      "metadata": {
        "id": "j4t9KPO5gEYZ"
      },
      "source": [
        "**`fit()`**: takes the `scaler` features & computes the *mean(μ)* and *standard deviation(σ)* of the features for later scaling (& transform).<br>\n",
        "**`transform()`**: uses previously computed *mean* & *standard deviation* to autoscale the data (subtract mean from all values & divide by std).<br>\n",
        "For X training set, we use `fit_transform()` because we need to compute mean and std, and then use it to autoscale the data.<br>\n",
        "For X test set, we already have the mean and std, so we only do the \"transform\" part."
      ]
    },
    {
      "cell_type": "code",
      "metadata": {
        "id": "w4QRLpX0jMOr"
      },
      "source": [
        "# Scale (Normalize) the data before preprocessing (between 0 - 1)\n",
        "scaler = MinMaxScaler(feature_range=(0, 1))\n",
        "# fit() [training] & transform() the scaler\n",
        "scaled_data = scaler.fit_transform(dataset)"
      ],
      "execution_count": 8,
      "outputs": []
    },
    {
      "cell_type": "code",
      "metadata": {
        "colab": {
          "base_uri": "https://localhost:8080/"
        },
        "id": "zyqKsmMu43FL",
        "outputId": "94192108-537d-4752-9379-6df16dc13af6"
      },
      "source": [
        "scaler"
      ],
      "execution_count": 9,
      "outputs": [
        {
          "output_type": "execute_result",
          "data": {
            "text/plain": [
              "MinMaxScaler(copy=True, feature_range=(0, 1))"
            ]
          },
          "metadata": {
            "tags": []
          },
          "execution_count": 9
        }
      ]
    },
    {
      "cell_type": "code",
      "metadata": {
        "colab": {
          "base_uri": "https://localhost:8080/"
        },
        "id": "X36aZatLjMOt",
        "outputId": "b2b73839-6425-4444-b143-f55ce9a68371"
      },
      "source": [
        "scaled_data"
      ],
      "execution_count": 10,
      "outputs": [
        {
          "output_type": "execute_result",
          "data": {
            "text/plain": [
              "array([[0.00567537],\n",
              "       [0.00594022],\n",
              "       [0.00586455],\n",
              "       ...,\n",
              "       [0.13507378],\n",
              "       [0.13753311],\n",
              "       [0.14150586]])"
            ]
          },
          "metadata": {
            "tags": []
          },
          "execution_count": 10
        }
      ]
    },
    {
      "cell_type": "code",
      "metadata": {
        "colab": {
          "base_uri": "https://localhost:8080/"
        },
        "id": "tipJw9JHjMOx",
        "outputId": "0fac9ceb-a488-4f26-bbf1-504f7a9ee7f3"
      },
      "source": [
        "# Create the training dataset\n",
        "\n",
        "# Create the scaled training dataset\n",
        "train_data = scaled_data[0:training_data_len, :]\n",
        "\n",
        "# Split data to x_train & y_train\n",
        "x_train = []\n",
        "y_train = []\n",
        "\n",
        "# Start for loop from 60, stop on 2028\n",
        "# takes previous 60 days to predict next day\n",
        "for i in range(60, len(train_data)):\n",
        "  x_train.append(train_data[i-60:i, 0])\n",
        "  y_train.append(train_data[i, 0])\n",
        "  if i <= 61:\n",
        "    print(\"x_train: \", \"\\n\", x_train, \"\\n\", \"y_train: \", \"\\n\", y_train)"
      ],
      "execution_count": 11,
      "outputs": [
        {
          "output_type": "stream",
          "text": [
            "x_train:  \n",
            " [array([0.00567537, 0.00594022, 0.00586455, 0.00605373, 0.00605373,\n",
            "       0.0057132 , 0.00537268, 0.00597806, 0.00586455, 0.00590238,\n",
            "       0.00601589, 0.00601589, 0.00597806, 0.00605373, 0.00605373,\n",
            "       0.00609156, 0.00597806, 0.00609156, 0.00616723, 0.00681044,\n",
            "       0.00741582, 0.00798335, 0.00802119, 0.00707529, 0.00775634,\n",
            "       0.00737798, 0.00756716, 0.00752932, 0.00688611, 0.00684828,\n",
            "       0.00616723, 0.00654559, 0.00749149, 0.00783201, 0.00775634,\n",
            "       0.00756716, 0.00934544, 0.01048051, 0.0086644 , 0.00862656,\n",
            "       0.00756716, 0.00828604, 0.00779417, 0.00786984, 0.00768067,\n",
            "       0.00756716, 0.00756716, 0.00832387, 0.0091941 , 0.01017783,\n",
            "       0.01104805, 0.01036701, 0.0097238 , 0.00964813, 0.00900492,\n",
            "       0.00885358, 0.00983731, 0.00991298, 0.01044268, 0.01021566])] \n",
            " y_train:  \n",
            " [0.010594021944759745]\n",
            "x_train:  \n",
            " [array([0.00567537, 0.00594022, 0.00586455, 0.00605373, 0.00605373,\n",
            "       0.0057132 , 0.00537268, 0.00597806, 0.00586455, 0.00590238,\n",
            "       0.00601589, 0.00601589, 0.00597806, 0.00605373, 0.00605373,\n",
            "       0.00609156, 0.00597806, 0.00609156, 0.00616723, 0.00681044,\n",
            "       0.00741582, 0.00798335, 0.00802119, 0.00707529, 0.00775634,\n",
            "       0.00737798, 0.00756716, 0.00752932, 0.00688611, 0.00684828,\n",
            "       0.00616723, 0.00654559, 0.00749149, 0.00783201, 0.00775634,\n",
            "       0.00756716, 0.00934544, 0.01048051, 0.0086644 , 0.00862656,\n",
            "       0.00756716, 0.00828604, 0.00779417, 0.00786984, 0.00768067,\n",
            "       0.00756716, 0.00756716, 0.00832387, 0.0091941 , 0.01017783,\n",
            "       0.01104805, 0.01036701, 0.0097238 , 0.00964813, 0.00900492,\n",
            "       0.00885358, 0.00983731, 0.00991298, 0.01044268, 0.01021566]), array([0.00594022, 0.00586455, 0.00605373, 0.00605373, 0.0057132 ,\n",
            "       0.00537268, 0.00597806, 0.00586455, 0.00590238, 0.00601589,\n",
            "       0.00601589, 0.00597806, 0.00605373, 0.00605373, 0.00609156,\n",
            "       0.00597806, 0.00609156, 0.00616723, 0.00681044, 0.00741582,\n",
            "       0.00798335, 0.00802119, 0.00707529, 0.00775634, 0.00737798,\n",
            "       0.00756716, 0.00752932, 0.00688611, 0.00684828, 0.00616723,\n",
            "       0.00654559, 0.00749149, 0.00783201, 0.00775634, 0.00756716,\n",
            "       0.00934544, 0.01048051, 0.0086644 , 0.00862656, 0.00756716,\n",
            "       0.00828604, 0.00779417, 0.00786984, 0.00768067, 0.00756716,\n",
            "       0.00756716, 0.00832387, 0.0091941 , 0.01017783, 0.01104805,\n",
            "       0.01036701, 0.0097238 , 0.00964813, 0.00900492, 0.00885358,\n",
            "       0.00983731, 0.00991298, 0.01044268, 0.01021566, 0.01059402])] \n",
            " y_train:  \n",
            " [0.010594021944759745, 0.010253499810821035]\n"
          ],
          "name": "stdout"
        }
      ]
    },
    {
      "cell_type": "code",
      "metadata": {
        "colab": {
          "base_uri": "https://localhost:8080/"
        },
        "id": "b-BxS-0aanza",
        "outputId": "1836f9ca-c538-401c-9c21-bb30cc639c8f"
      },
      "source": [
        "print(scaled_data)\n",
        "print(train_data)"
      ],
      "execution_count": 12,
      "outputs": [
        {
          "output_type": "stream",
          "text": [
            "[[0.00567537]\n",
            " [0.00594022]\n",
            " [0.00586455]\n",
            " ...\n",
            " [0.13507378]\n",
            " [0.13753311]\n",
            " [0.14150586]]\n",
            "[[0.00567537]\n",
            " [0.00594022]\n",
            " [0.00586455]\n",
            " ...\n",
            " [0.03711691]\n",
            " [0.04033295]\n",
            " [0.04404086]]\n"
          ],
          "name": "stdout"
        }
      ]
    },
    {
      "cell_type": "code",
      "metadata": {
        "id": "WFwCwqUbjMO2"
      },
      "source": [
        "# Convert x_train & y_train to numpy arrays to use it on LSTM\n",
        "x_train, y_train = np.array(x_train), np.array(y_train)"
      ],
      "execution_count": 13,
      "outputs": []
    },
    {
      "cell_type": "code",
      "metadata": {
        "colab": {
          "base_uri": "https://localhost:8080/"
        },
        "id": "dfwR_5irjMO8",
        "outputId": "a3d9ffad-0e8e-4dd5-81ea-9f6ed8ea4468"
      },
      "source": [
        "x_train.shape"
      ],
      "execution_count": 14,
      "outputs": [
        {
          "output_type": "execute_result",
          "data": {
            "text/plain": [
              "(1969, 60)"
            ]
          },
          "metadata": {
            "tags": []
          },
          "execution_count": 14
        }
      ]
    },
    {
      "cell_type": "code",
      "metadata": {
        "colab": {
          "base_uri": "https://localhost:8080/"
        },
        "id": "U3NfFSbrjMO9",
        "outputId": "e4ca110c-9de0-4e59-9bc6-7b8a47ca9e10"
      },
      "source": [
        "# Reshape the data (input of LSTM should be 3-dim)\n",
        "# (number of rows we have \"1969\", number of time steps \"60\", number of features \"closing price\": 1)\n",
        "x_train = np.reshape(x_train, (x_train.shape[0], x_train.shape[1], 1))\n",
        "\n",
        "x_train.shape"
      ],
      "execution_count": 15,
      "outputs": [
        {
          "output_type": "execute_result",
          "data": {
            "text/plain": [
              "(1969, 60, 1)"
            ]
          },
          "metadata": {
            "tags": []
          },
          "execution_count": 15
        }
      ]
    },
    {
      "cell_type": "code",
      "metadata": {
        "id": "2JfQTg-jjMO-"
      },
      "source": [
        "# Build the LSTM Model\n",
        "\n",
        "# Create Sequential model (Linear stack of models), used this because we don't need more than 1 output\n",
        "model = Sequential()\n",
        "# 50 neurons, True because we're using another LSTM layer,\n",
        "# only for the first layer we use input_shape(number of time steps, number of features)\n",
        "# input_shape=(1969, 1) : to train only one unit at a time\n",
        "model.add(LSTM(50, return_sequences=True, input_shape=(x_train.shape[1], 1)))\n",
        "model.add(LSTM(50, return_sequences=False))  # False because we don't have any LSTM further\n",
        "# A Dense layer feeds all outputs from the previous layer to all its neurons,\n",
        "# each neuron providing one output to the next layer\n",
        "model.add(Dense(25))  # 25 neurons\n",
        "model.add(Dense(1))"
      ],
      "execution_count": 16,
      "outputs": []
    },
    {
      "cell_type": "code",
      "metadata": {
        "id": "FmCmmRH8jMO_"
      },
      "source": [
        "# Compile the model\n",
        "\n",
        "# optimizer used to improve loss function & loss function measures how well model did on training\n",
        "model.compile(optimizer='Adam', loss='mean_squared_error')"
      ],
      "execution_count": 17,
      "outputs": []
    },
    {
      "cell_type": "code",
      "metadata": {
        "colab": {
          "base_uri": "https://localhost:8080/"
        },
        "id": "PUJ8lwYejMPB",
        "outputId": "37914688-ade8-4745-931c-cb75a34b30f3"
      },
      "source": [
        "# Train the Model\n",
        "# batch_size : total number of examples present in a single batch (comparing samples to calculate the correct weight)\n",
        "# batch_size=1 : 1 sample from the training dataset will be used to estimate the error before the weights are updated\n",
        "# epochs : number of iterations when an entire dataset is passed forward and backward through a neural network\n",
        "model.fit(x_train, y_train, batch_size=1, epochs=1)"
      ],
      "execution_count": 18,
      "outputs": [
        {
          "output_type": "stream",
          "text": [
            "1969/1969 [==============================] - 31s 6ms/step - loss: 6.9945e-05\n"
          ],
          "name": "stdout"
        },
        {
          "output_type": "execute_result",
          "data": {
            "text/plain": [
              "<keras.callbacks.History at 0x7f9b80163410>"
            ]
          },
          "metadata": {
            "tags": []
          },
          "execution_count": 18
        }
      ]
    },
    {
      "cell_type": "code",
      "metadata": {
        "id": "nd2DN4IqjMPD"
      },
      "source": [
        "# Create a testing dataset\n",
        "# Create a new array containing the scaled values from index 1969 to 2536\n",
        "test_data = scaled_data[training_data_len - 60: , :]\n",
        "# Create the dataset x_test & y_test\n",
        "x_test = []\n",
        "# y_test : all of the values we want our model to predict\n",
        "# contains actual values (unscaled 60 first values)\n",
        "y_test = dataset[training_data_len: , :]\n",
        "\n",
        "# Appends to x_test contains past 60 values\n",
        "for i in range(60, len(test_data)):\n",
        "  x_test.append(test_data[i-60:i, 0])"
      ],
      "execution_count": null,
      "outputs": []
    },
    {
      "cell_type": "code",
      "metadata": {
        "id": "ZuqsmgwQjMPE"
      },
      "source": [
        "# Convert the <x_test> data to a numpy array to use it in LSTM model\n",
        "x_test = np.array(x_test)"
      ],
      "execution_count": null,
      "outputs": []
    },
    {
      "cell_type": "code",
      "metadata": {
        "id": "meVB_DX0jMPF"
      },
      "source": [
        "# Reshape the data (2dim to 3dim)\n",
        "# (reshape x_test, (number of samples 'rows'), (number of timesteps 'columns'), (number of features))\n",
        "x_test = np.reshape(x_test, (x_test.shape[0], x_test.shape[1], 1))"
      ],
      "execution_count": null,
      "outputs": []
    },
    {
      "cell_type": "code",
      "metadata": {
        "id": "tJpGDxyVjMPF"
      },
      "source": [
        "# Get the models predicted price values (x_test)\n",
        "predictions = model.predict(x_test)\n",
        "# Inverse transform the data (unscaling the values) to contain...\n",
        "# exact same values that y_test contains\n",
        "predictions = scaler.inverse_transform(predictions)"
      ],
      "execution_count": null,
      "outputs": []
    },
    {
      "cell_type": "code",
      "metadata": {
        "id": "jCmt13P2jMPG"
      },
      "source": [
        "# Evaluate the model by getting the Root Mean Squared Error (RMSE)\n",
        "# the lower the value, the better the model fit\n",
        "#rmse = np.sqrt(np.mean(predictions - y_test)**2)\n",
        "rmse = np.sqrt(np.mean((predictions- y_test)**2))\n",
        "rmse"
      ],
      "execution_count": null,
      "outputs": []
    },
    {
      "cell_type": "code",
      "metadata": {
        "id": "vVjLlaa5jMPG"
      },
      "source": [
        "# Plot the data\n",
        "train = data[: training_data_len]\n",
        "valid = data[training_data_len:]\n",
        "valid['Predictions'] = predictions\n",
        "# Visualize the data\n",
        "plt.figure(figsize=(16, 8))\n",
        "plt.title('Model')\n",
        "plt.xlabel('Date', fontsize=18)\n",
        "plt.ylabel('Close Price USD ($)', fontsize=18)\n",
        "plt.plot(train['close'])\n",
        "plt.plot(valid[['close', 'Predictions']])\n",
        "plt.legend(['Train', 'Val', 'Predictions'], loc='lower right')\n",
        "plt.show()"
      ],
      "execution_count": null,
      "outputs": []
    },
    {
      "cell_type": "code",
      "metadata": {
        "id": "sLOJWHxmjMPH"
      },
      "source": [
        "# Show the valid & predicted prices\n",
        "valid"
      ],
      "execution_count": null,
      "outputs": []
    },
    {
      "cell_type": "code",
      "metadata": {
        "id": "l0B_zDQ5jMPH"
      },
      "source": [
        "# Get the quote\n",
        "apple_quote = web.DataReader('AAPL', data_source='yahoo', start='2012-01-01', end='2019-12-17')"
      ],
      "execution_count": null,
      "outputs": []
    },
    {
      "cell_type": "code",
      "metadata": {
        "id": "xchq2gGjjMPI"
      },
      "source": [
        "# Create a new dataframe\n",
        "new_df = apple_quote.filter(['Close'])\n",
        "# Get the last 60 day closing price of values & convert the df to an array\n",
        "last_60_days = new_df[-60:].values\n",
        "# Scale the data (0-1)\n",
        "# not using fit transform because we want to transform those same Min & Max values that we used when we first transformed the data\n",
        "last_60_days_scaled = scaler.transform(last_60_days)\n",
        "# Create an empty list\n",
        "X_test = []\n",
        "# Append the past 60 days to the X_test\n",
        "X_test.append(last_60_days_scaled)\n",
        "# Convert the X_test dataset to a numpy array to use in LSTM\n",
        "X_test = np.array(X_test)\n",
        "# Reshape from 2dim to 3dim\n",
        "X_test = np.reshape(X_test, (X_test.shape[0], X_test.shape[1], 1))\n",
        "# Get the predcited scaled price\n",
        "pred_price = model.predict(X_test)\n",
        "# Undo the scaling\n",
        "pred_price = scaler.inverse_transform(pred_price)\n",
        "print(pred_price)  # price of 18 December 2019"
      ],
      "execution_count": null,
      "outputs": []
    },
    {
      "cell_type": "code",
      "metadata": {
        "id": "R6yVRguqjMPI"
      },
      "source": [
        "# Get the quote\n",
        "apple_quote2 = web.DataReader('AAPL', data_source='yahoo', start='2019-12-18', end='2019-12-18')"
      ],
      "execution_count": null,
      "outputs": []
    },
    {
      "cell_type": "code",
      "metadata": {
        "id": "dxBvSJ_PjMPI"
      },
      "source": [
        "print(apple_quote2['Close'])"
      ],
      "execution_count": null,
      "outputs": []
    }
  ]
}